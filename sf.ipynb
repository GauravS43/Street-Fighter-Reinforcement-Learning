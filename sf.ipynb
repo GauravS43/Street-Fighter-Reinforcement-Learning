{
 "cells": [
  {
   "cell_type": "code",
   "execution_count": 7,
   "metadata": {},
   "outputs": [],
   "source": [
    "import retro\n",
    "import time\n",
    "\n",
    "#Troubleshooting\n",
    "#!python --version\n",
    "#%pip list\n",
    "#pip install gym\n",
    "#pip install gym-retro\n",
    "#!python -m retro.import StreetFighterIISpecialChampionEdition-Genesis.md"
   ]
  },
  {
   "cell_type": "code",
   "execution_count": 10,
   "metadata": {},
   "outputs": [],
   "source": [
    "env = retro.make(game='StreetFighterIISpecialChampionEdition-Genesis')"
   ]
  },
  {
   "cell_type": "code",
   "execution_count": 9,
   "metadata": {},
   "outputs": [],
   "source": [
    "env.close()"
   ]
  },
  {
   "cell_type": "code",
   "execution_count": null,
   "metadata": {},
   "outputs": [
    {
     "name": "stderr",
     "output_type": "stream",
     "text": [
      "Exception ignored on calling ctypes callback function: <function Win32Window._get_window_proc.<locals>.f at 0x000001C8A7832550>\n",
      "Traceback (most recent call last):\n",
      "  File \"C:\\Users\\Gaurav\\anacondaWrapper\\envs\\Python38\\lib\\site-packages\\pyglet\\window\\win32\\__init__.py\", line 738, in f\n",
      "    def f(hwnd, msg, wParam, lParam):\n",
      "KeyboardInterrupt: \n",
      "Exception ignored on calling ctypes callback function: <function Win32Window._get_window_proc.<locals>.f at 0x000001C8A7832550>\n",
      "Traceback (most recent call last):\n",
      "  File \"C:\\Users\\Gaurav\\anacondaWrapper\\envs\\Python38\\lib\\site-packages\\pyglet\\window\\win32\\__init__.py\", line 738, in f\n",
      "    def f(hwnd, msg, wParam, lParam):\n",
      "KeyboardInterrupt: \n"
     ]
    }
   ],
   "source": [
    "#show env\n",
    "\n",
    "obs = env.reset()\n",
    "done = False\n",
    "for game in range(1):\n",
    "    while not done:\n",
    "        if done:\n",
    "            obs = env.reset()\n",
    "        env.render()\n",
    "        time.sleep(1/60)\n",
    "        obs, reward, done, info = env.step(env.action_space.sample())\n",
    "        print(reward)"
   ]
  },
  {
   "cell_type": "code",
   "execution_count": null,
   "metadata": {},
   "outputs": [],
   "source": []
  }
 ],
 "metadata": {
  "kernelspec": {
   "display_name": "Python 3 (ipykernel)",
   "language": "python",
   "name": "python3"
  },
  "language_info": {
   "codemirror_mode": {
    "name": "ipython",
    "version": 3
   },
   "file_extension": ".py",
   "mimetype": "text/x-python",
   "name": "python",
   "nbconvert_exporter": "python",
   "pygments_lexer": "ipython3",
   "version": "3.8.16"
  },
  "vscode": {
   "interpreter": {
    "hash": "80a552b773849983c5167cba77a1c980f1bc7ffcc2cb4c4cf7345dc3418a4fef"
   }
  }
 },
 "nbformat": 4,
 "nbformat_minor": 2
}
